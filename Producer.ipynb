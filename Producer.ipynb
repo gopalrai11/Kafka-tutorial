{
 "cells": [
  {
   "cell_type": "code",
   "execution_count": 20,
   "id": "2d4db966",
   "metadata": {},
   "outputs": [],
   "source": [
    "from kafka import KafkaProducer, KafkaConsumer\n",
    "from kafka.errors import KafkaError\n",
    "import json\n",
    "\n",
    "# Define Kafka producer\n",
    "producer = KafkaProducer(\n",
    "    bootstrap_servers=['localhost:9092'],\n",
    "    value_serializer=lambda v: json.dumps(v).encode('utf-8')\n",
    ")\n",
    "\n",
    "# Produce a message\n",
    "future = producer.send('hello_world', {'key': 'anurag loves pragya'})\n",
    "try:\n",
    "    record_metadata = future.get(timeout=10)\n",
    "except KafkaError as e:\n",
    "    print(f\"Error sending message: {e}\")\n",
    "finally:\n",
    "    producer.close()"
   ]
  },
  {
   "cell_type": "code",
   "execution_count": null,
   "id": "a4914411",
   "metadata": {},
   "outputs": [],
   "source": []
  }
 ],
 "metadata": {
  "kernelspec": {
   "display_name": "Python 3 (ipykernel)",
   "language": "python",
   "name": "python3"
  },
  "language_info": {
   "codemirror_mode": {
    "name": "ipython",
    "version": 3
   },
   "file_extension": ".py",
   "mimetype": "text/x-python",
   "name": "python",
   "nbconvert_exporter": "python",
   "pygments_lexer": "ipython3",
   "version": "3.11.3"
  }
 },
 "nbformat": 4,
 "nbformat_minor": 5
}
